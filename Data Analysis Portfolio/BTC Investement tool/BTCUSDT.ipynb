{
 "cells": [
  {
   "cell_type": "code",
   "execution_count": null,
   "id": "660e7b36",
   "metadata": {},
   "outputs": [
    {
     "name": "stdout",
     "output_type": "stream",
     "text": [
      "Requirement already satisfied: pandas in c:\\users\\radioshack\\appdata\\local\\programs\\python\\python312\\lib\\site-packages (2.2.3)\n",
      "Requirement already satisfied: requests in c:\\users\\radioshack\\appdata\\local\\programs\\python\\python312\\lib\\site-packages (2.32.3)\n",
      "Requirement already satisfied: schedule in c:\\users\\radioshack\\appdata\\local\\programs\\python\\python312\\lib\\site-packages (1.2.2)\n",
      "Collecting ta\n",
      "  Downloading ta-0.11.0.tar.gz (25 kB)\n",
      "  Installing build dependencies: started\n",
      "  Installing build dependencies: finished with status 'done'\n",
      "  Getting requirements to build wheel: started\n",
      "  Getting requirements to build wheel: finished with status 'done'\n",
      "  Preparing metadata (pyproject.toml): started\n",
      "  Preparing metadata (pyproject.toml): finished with status 'done'\n",
      "Requirement already satisfied: numpy>=1.26.0 in c:\\users\\radioshack\\appdata\\local\\programs\\python\\python312\\lib\\site-packages (from pandas) (2.2.6)\n",
      "Requirement already satisfied: python-dateutil>=2.8.2 in c:\\users\\radioshack\\appdata\\roaming\\python\\python312\\site-packages (from pandas) (2.9.0.post0)\n",
      "Requirement already satisfied: pytz>=2020.1 in c:\\users\\radioshack\\appdata\\local\\programs\\python\\python312\\lib\\site-packages (from pandas) (2025.2)\n",
      "Requirement already satisfied: tzdata>=2022.7 in c:\\users\\radioshack\\appdata\\local\\programs\\python\\python312\\lib\\site-packages (from pandas) (2025.2)\n",
      "Requirement already satisfied: charset-normalizer<4,>=2 in c:\\users\\radioshack\\appdata\\local\\programs\\python\\python312\\lib\\site-packages (from requests) (3.4.2)\n",
      "Requirement already satisfied: idna<4,>=2.5 in c:\\users\\radioshack\\appdata\\local\\programs\\python\\python312\\lib\\site-packages (from requests) (3.10)\n",
      "Requirement already satisfied: urllib3<3,>=1.21.1 in c:\\users\\radioshack\\appdata\\local\\programs\\python\\python312\\lib\\site-packages (from requests) (2.4.0)\n",
      "Requirement already satisfied: certifi>=2017.4.17 in c:\\users\\radioshack\\appdata\\local\\programs\\python\\python312\\lib\\site-packages (from requests) (2025.4.26)\n",
      "Requirement already satisfied: six>=1.5 in c:\\users\\radioshack\\appdata\\roaming\\python\\python312\\site-packages (from python-dateutil>=2.8.2->pandas) (1.17.0)\n",
      "Building wheels for collected packages: ta\n",
      "  Building wheel for ta (pyproject.toml): started\n",
      "  Building wheel for ta (pyproject.toml): finished with status 'done'\n",
      "  Created wheel for ta: filename=ta-0.11.0-py3-none-any.whl size=29495 sha256=72a5cb3b15ed1d0c9a46a42314011977c18f35aada4e5e4acd6233efeb4fad0a\n",
      "  Stored in directory: c:\\users\\radioshack\\appdata\\local\\pip\\cache\\wheels\\5c\\a1\\5f\\c6b85a7d9452057be4ce68a8e45d77ba34234a6d46581777c6\n",
      "Successfully built ta\n",
      "Installing collected packages: ta\n",
      "Successfully installed ta-0.11.0\n",
      "Note: you may need to restart the kernel to use updated packages.\n"
     ]
    },
    {
     "name": "stderr",
     "output_type": "stream",
     "text": [
      "\n",
      "[notice] A new release of pip is available: 23.2.1 -> 25.1.1\n",
      "[notice] To update, run: python.exe -m pip install --upgrade pip\n"
     ]
    }
   ],
   "source": [
    "pip install pandas"
   ]
  },
  {
   "cell_type": "code",
   "execution_count": 3,
   "id": "7847be9e",
   "metadata": {},
   "outputs": [
    {
     "name": "stdout",
     "output_type": "stream",
     "text": [
      "Requirement already satisfied: matplotlib in c:\\users\\radioshack\\appdata\\local\\programs\\python\\python312\\lib\\site-packages (3.10.3)\n",
      "Requirement already satisfied: contourpy>=1.0.1 in c:\\users\\radioshack\\appdata\\local\\programs\\python\\python312\\lib\\site-packages (from matplotlib) (1.3.2)\n",
      "Requirement already satisfied: cycler>=0.10 in c:\\users\\radioshack\\appdata\\local\\programs\\python\\python312\\lib\\site-packages (from matplotlib) (0.12.1)\n",
      "Requirement already satisfied: fonttools>=4.22.0 in c:\\users\\radioshack\\appdata\\local\\programs\\python\\python312\\lib\\site-packages (from matplotlib) (4.58.0)\n",
      "Requirement already satisfied: kiwisolver>=1.3.1 in c:\\users\\radioshack\\appdata\\local\\programs\\python\\python312\\lib\\site-packages (from matplotlib) (1.4.8)\n",
      "Requirement already satisfied: numpy>=1.23 in c:\\users\\radioshack\\appdata\\local\\programs\\python\\python312\\lib\\site-packages (from matplotlib) (2.2.6)\n",
      "Requirement already satisfied: packaging>=20.0 in c:\\users\\radioshack\\appdata\\roaming\\python\\python312\\site-packages (from matplotlib) (24.2)\n",
      "Requirement already satisfied: pillow>=8 in c:\\users\\radioshack\\appdata\\local\\programs\\python\\python312\\lib\\site-packages (from matplotlib) (11.2.1)\n",
      "Requirement already satisfied: pyparsing>=2.3.1 in c:\\users\\radioshack\\appdata\\local\\programs\\python\\python312\\lib\\site-packages (from matplotlib) (3.2.3)\n",
      "Requirement already satisfied: python-dateutil>=2.7 in c:\\users\\radioshack\\appdata\\roaming\\python\\python312\\site-packages (from matplotlib) (2.9.0.post0)\n",
      "Requirement already satisfied: six>=1.5 in c:\\users\\radioshack\\appdata\\roaming\\python\\python312\\site-packages (from python-dateutil>=2.7->matplotlib) (1.17.0)\n",
      "Note: you may need to restart the kernel to use updated packages.\n"
     ]
    },
    {
     "name": "stderr",
     "output_type": "stream",
     "text": [
      "\n",
      "[notice] A new release of pip is available: 23.2.1 -> 25.1.1\n",
      "[notice] To update, run: python.exe -m pip install --upgrade pip\n"
     ]
    }
   ],
   "source": [
    "pip install matplotlib"
   ]
  },
  {
   "cell_type": "code",
   "execution_count": null,
   "id": "6713d561",
   "metadata": {},
   "outputs": [
    {
     "name": "stdout",
     "output_type": "stream",
     "text": [
      "Requirement already satisfied: requests in c:\\users\\radioshack\\appdata\\local\\programs\\python\\python312\\lib\\site-packages (2.32.3)\n",
      "Requirement already satisfied: charset-normalizer<4,>=2 in c:\\users\\radioshack\\appdata\\local\\programs\\python\\python312\\lib\\site-packages (from requests) (3.4.2)\n",
      "Requirement already satisfied: idna<4,>=2.5 in c:\\users\\radioshack\\appdata\\local\\programs\\python\\python312\\lib\\site-packages (from requests) (3.10)\n",
      "Requirement already satisfied: urllib3<3,>=1.21.1 in c:\\users\\radioshack\\appdata\\local\\programs\\python\\python312\\lib\\site-packages (from requests) (2.4.0)\n",
      "Requirement already satisfied: certifi>=2017.4.17 in c:\\users\\radioshack\\appdata\\local\\programs\\python\\python312\\lib\\site-packages (from requests) (2025.4.26)\n",
      "Note: you may need to restart the kernel to use updated packages.\n"
     ]
    },
    {
     "name": "stderr",
     "output_type": "stream",
     "text": [
      "\n",
      "[notice] A new release of pip is available: 23.2.1 -> 25.1.1\n",
      "[notice] To update, run: python.exe -m pip install --upgrade pip\n"
     ]
    }
   ],
   "source": [
    "\n",
    "pip install requests"
   ]
  },
  {
   "cell_type": "code",
   "execution_count": null,
   "id": "4616aef1",
   "metadata": {},
   "outputs": [
    {
     "name": "stdout",
     "output_type": "stream",
     "text": [
      "Requirement already satisfied: schedule in c:\\users\\radioshack\\appdata\\local\\programs\\python\\python312\\lib\\site-packages (1.2.2)\n",
      "Note: you may need to restart the kernel to use updated packages.\n"
     ]
    },
    {
     "name": "stderr",
     "output_type": "stream",
     "text": [
      "\n",
      "[notice] A new release of pip is available: 23.2.1 -> 25.1.1\n",
      "[notice] To update, run: python.exe -m pip install --upgrade pip\n"
     ]
    }
   ],
   "source": [
    "pip install schedule"
   ]
  },
  {
   "cell_type": "code",
   "execution_count": 4,
   "id": "d88ca226",
   "metadata": {},
   "outputs": [
    {
     "name": "stdout",
     "output_type": "stream",
     "text": [
      "Requirement already satisfied: ta in c:\\users\\radioshack\\appdata\\local\\programs\\python\\python312\\lib\\site-packages (0.11.0)\n",
      "Requirement already satisfied: numpy in c:\\users\\radioshack\\appdata\\local\\programs\\python\\python312\\lib\\site-packages (from ta) (2.2.6)\n",
      "Requirement already satisfied: pandas in c:\\users\\radioshack\\appdata\\local\\programs\\python\\python312\\lib\\site-packages (from ta) (2.2.3)\n",
      "Requirement already satisfied: python-dateutil>=2.8.2 in c:\\users\\radioshack\\appdata\\roaming\\python\\python312\\site-packages (from pandas->ta) (2.9.0.post0)\n",
      "Requirement already satisfied: pytz>=2020.1 in c:\\users\\radioshack\\appdata\\local\\programs\\python\\python312\\lib\\site-packages (from pandas->ta) (2025.2)\n",
      "Requirement already satisfied: tzdata>=2022.7 in c:\\users\\radioshack\\appdata\\local\\programs\\python\\python312\\lib\\site-packages (from pandas->ta) (2025.2)\n",
      "Requirement already satisfied: six>=1.5 in c:\\users\\radioshack\\appdata\\roaming\\python\\python312\\site-packages (from python-dateutil>=2.8.2->pandas->ta) (1.17.0)\n",
      "Note: you may need to restart the kernel to use updated packages.\n"
     ]
    },
    {
     "name": "stderr",
     "output_type": "stream",
     "text": [
      "\n",
      "[notice] A new release of pip is available: 23.2.1 -> 25.1.1\n",
      "[notice] To update, run: python.exe -m pip install --upgrade pip\n"
     ]
    }
   ],
   "source": [
    "pip install ta"
   ]
  },
  {
   "cell_type": "code",
   "execution_count": 2,
   "id": "5e0ca1b2",
   "metadata": {},
   "outputs": [
    {
     "name": "stdout",
     "output_type": "stream",
     "text": [
      "   open_time      open      high       low     close       volume  \\\n",
      "0 2025-05-01  94172.00  97424.02  94130.43  96489.91  21380.45343   \n",
      "1 2025-05-02  96489.90  97895.68  96350.00  96887.14  14905.74811   \n",
      "2 2025-05-03  96887.13  96935.67  95753.01  95856.42   9723.34838   \n",
      "3 2025-05-04  95856.42  96304.48  94151.38  94277.62  11036.38342   \n",
      "4 2025-05-05  94277.61  95199.00  93514.10  94733.68  17251.18189   \n",
      "\n",
      "               close_time  quote_asset_volume  number_of_trades  \\\n",
      "0 2025-05-01 23:59:59.999        2.053858e+09           2925716   \n",
      "1 2025-05-02 23:59:59.999        1.446388e+09           2698263   \n",
      "2 2025-05-03 23:59:59.999        9.359061e+08           1181239   \n",
      "3 2025-05-04 23:59:59.999        1.053542e+09           1674726   \n",
      "4 2025-05-05 23:59:59.999        1.626999e+09           2623300   \n",
      "\n",
      "   taker_buy_base_asset_volume  taker_buy_quote_asset_volume ignore  \n",
      "0                  10925.87308                  1.049157e+09      0  \n",
      "1                   7440.33531                  7.220228e+08      0  \n",
      "2                   3929.40490                  3.782713e+08      0  \n",
      "3                   4385.33486                  4.185735e+08      0  \n",
      "4                   8399.64855                  7.922997e+08      0  \n",
      "        close        rsi\n",
      "25  109434.79  66.381639\n",
      "26  108938.17  64.407706\n",
      "27  107781.78  59.938265\n",
      "28  105589.75  52.501051\n",
      "29  105235.41  51.390979\n"
     ]
    },
    {
     "ename": "NameError",
     "evalue": "name 'avg_return' is not defined",
     "output_type": "error",
     "traceback": [
      "\u001b[31m---------------------------------------------------------------------------\u001b[39m",
      "\u001b[31mNameError\u001b[39m                                 Traceback (most recent call last)",
      "\u001b[36mCell\u001b[39m\u001b[36m \u001b[39m\u001b[32mIn[2]\u001b[39m\u001b[32m, line 115\u001b[39m\n\u001b[32m    110\u001b[39m     os.makedirs(\u001b[33m'\u001b[39m\u001b[33mdata\u001b[39m\u001b[33m'\u001b[39m)\n\u001b[32m    112\u001b[39m \u001b[38;5;66;03m# Prepare summary dictionary\u001b[39;00m\n\u001b[32m    113\u001b[39m summary = {\n\u001b[32m    114\u001b[39m     \u001b[33m'\u001b[39m\u001b[33mNumber of Trades\u001b[39m\u001b[33m'\u001b[39m: \u001b[38;5;28mlen\u001b[39m(returns),\n\u001b[32m--> \u001b[39m\u001b[32m115\u001b[39m     \u001b[33m'\u001b[39m\u001b[33mAverage Return (\u001b[39m\u001b[33m%\u001b[39m\u001b[33m)\u001b[39m\u001b[33m'\u001b[39m: \u001b[43mavg_return\u001b[49m,\n\u001b[32m    116\u001b[39m     \u001b[33m'\u001b[39m\u001b[33mMax Return (\u001b[39m\u001b[33m%\u001b[39m\u001b[33m)\u001b[39m\u001b[33m'\u001b[39m: \u001b[38;5;28mmax\u001b[39m(returns),\n\u001b[32m    117\u001b[39m     \u001b[33m'\u001b[39m\u001b[33mMin Return (\u001b[39m\u001b[33m%\u001b[39m\u001b[33m)\u001b[39m\u001b[33m'\u001b[39m: \u001b[38;5;28mmin\u001b[39m(returns),\n\u001b[32m    118\u001b[39m }\n\u001b[32m    120\u001b[39m \u001b[38;5;66;03m# Convert to DataFrame and save as CSV in data/\u001b[39;00m\n\u001b[32m    121\u001b[39m summary_df = pd.DataFrame([summary])\n",
      "\u001b[31mNameError\u001b[39m: name 'avg_return' is not defined"
     ]
    }
   ],
   "source": [
    "#Import libraries\n",
    "import requests\n",
    "import pandas as pd\n",
    "from datetime import datetime\n",
    "import matplotlib.pyplot as plt\n",
    "import ta\n",
    "import os\n",
    "\n",
    "#ETL PROCESS:\n",
    "#EXTRACT DATA FROM REST API  \n",
    "\n",
    "def get_binance_market_data(symbol='BTCUSDT', interval='1d', limit=30):\n",
    "    url = \"https://api.binance.com/api/v3/klines\"\n",
    "    params = {'symbol': symbol,\n",
    "              'interval': interval,\n",
    "              'limit': limit      \n",
    "    }\n",
    "    response = requests.get(url,params=params)\n",
    "    data = response.json()\n",
    "    return data\n",
    "data = get_binance_market_data()\n",
    "#I used \"print(data)\" to verify with oficial documentation for REST API RESPONSE to assign columns\n",
    "\n",
    "#TRANSFORM DATA to DATAFRAME by cleaning and formating\n",
    "\n",
    "columns = ['open_time', 'open', 'high', 'low', 'close', 'volume',\n",
    "    'close_time', 'quote_asset_volume', 'number_of_trades',\n",
    "    'taker_buy_base_asset_volume', 'taker_buy_quote_asset_volume', 'ignore'\n",
    "]\n",
    "df = pd.DataFrame (data, columns=columns)\n",
    "\n",
    "#setting time format \n",
    "\n",
    "df['open_time'] = pd.to_datetime(df['open_time'],unit='ms')\n",
    "df ['close_time'] = pd.to_datetime(df['close_time'],unit='ms')\n",
    "numeric_columns = ['open', 'high', 'low', 'close', 'volume','quote_asset_volume','taker_buy_base_asset_volume', 'taker_buy_quote_asset_volume'\n",
    "]\n",
    "df[numeric_columns] = df[numeric_columns].astype(float)\n",
    "#print(df.dtypes) verifying data types\n",
    "\n",
    "print(df.head())\n",
    "\n",
    "df['rsi']= ta.momentum.RSIIndicator(close=df['close'],window=14).rsi()\n",
    "print(df[['close','rsi']].tail())\n",
    "\n",
    "# EMA calculation\n",
    "df['ema_fast'] = df['close'].ewm(span=9, adjust=False).mean()\n",
    "df['ema_slow'] = df['close'].ewm(span=21, adjust=False).mean()\n",
    "\n",
    "# EMAs Cross signal \n",
    "df['ema_signal'] = 0\n",
    "df.loc[df['ema_fast'] > df['ema_slow'], 'ema_signal'] = 1\n",
    "df.loc[df['ema_fast'] < df['ema_slow'], 'ema_signal'] = -1\n",
    "\n",
    "# MACD signal\n",
    "\n",
    "from ta.trend import MACD\n",
    "macd = MACD(close=df['close'], window_slow=26, window_fast=12, window_sign=9)\n",
    "df['macd'] = macd.macd()\n",
    "df['macd_signal'] = macd.macd_signal()\n",
    "\n",
    "# Combined signals RSI+EMA \n",
    "df['signal'] = 0\n",
    "df.loc[(df['rsi'] < 30) & (df['ema_signal'] == 1), 'signal'] = 1   # BUY\n",
    "df.loc[(df['rsi'] > 70) & (df['ema_signal'] == -1), 'signal'] = -1 # SELL\n",
    "\n",
    "# Avoid repetitions\n",
    "df['signal'] = df['signal'].diff().fillna(0)\n",
    "\n",
    "# Assigning signals\n",
    "\n",
    "df['signal'] = 0\n",
    "df.loc[df['rsi']<30,'signal'] = 1 # 1 = \"BUY\"\n",
    "df.loc[df['rsi']>70,'signal'] = -1 # -1 = \"SELL\"\n",
    "df['signal'] = df['signal'].diff().fillna(0)\n",
    "#print(df['signal'])\n",
    "\n",
    "# Calculate incomes between signals Buy (1) and Sell (-1)\n",
    "entries = []\n",
    "exits = []\n",
    "returns = []\n",
    "\n",
    "for i in range(1, len(df)):\n",
    "    if df['signal'].iloc[i] == 1:\n",
    "        entry_price = df['close'].iloc[i]\n",
    "        entry_time = df['open_time'].iloc[i]\n",
    "    elif df['signal'].iloc[i] == -1 and 'entry_price' in locals():\n",
    "        exit_price = df['close'].iloc[i]\n",
    "        exit_time = df['open_time'].iloc[i]\n",
    "        gain_pct = (exit_price - entry_price) / entry_price * 100\n",
    "\n",
    "        entries.append((entry_time, entry_price))\n",
    "        exits.append((exit_time, exit_price))\n",
    "        returns.append(gain_pct)\n",
    "\n",
    "        del entry_price  # Reset  \n",
    "\n",
    "    #Returns summary\n",
    "    if returns:\n",
    "        #convert floats to native python\n",
    "        returns = [float(r) for r in returns]\n",
    "\n",
    "        avg_return = sum(returns) / len(returns)\n",
    "        print(f\"Operations number: {len(returns)}\")\n",
    "        \n",
    "        import os\n",
    "\n",
    "    # Ensure 'data' folder exists\n",
    "    if not os.path.exists('data'):\n",
    "        os.makedirs('data')\n",
    "\n",
    "    # Prepare summary dictionary\n",
    "    summary = {\n",
    "        'Number of Trades': len(returns),\n",
    "        'Average Return (%)': avg_return,\n",
    "        'Max Return (%)': max(returns),\n",
    "        'Min Return (%)': min(returns),\n",
    "    }\n",
    "\n",
    "    # Convert to DataFrame and save as CSV in data/\n",
    "    summary_df = pd.DataFrame([summary])\n",
    "    summary_df.to_csv('data/summary_report.csv', index=False)\n",
    "    print(\"Summary report exported to data/summary_report.csv\")\n",
    "\n",
    "    #EMA graph with price\n",
    "    plt.figure(figsize=(14,6))\n",
    "    plt.plot(df['open_time'], df['close'], label='BTC Price', color='blue')\n",
    "    plt.plot(df['open_time'], df['ema_fast'], label='EMA 9', color='orange', linestyle='--')\n",
    "    plt.plot(df['open_time'], df['ema_slow'], label='EMA 21', color='purple', linestyle='--')\n",
    "    plt.scatter(df[df['signal'] == 1]['open_time'], df[df['signal'] == 1]['close'], label='Buy Signal', marker='^', color='green')\n",
    "    plt.scatter(df[df['signal'] == -1]['open_time'], df[df['signal'] == -1]['close'], label='Sell Signal', marker='v', color='red')\n",
    "    plt.title('BTC Price with RSI + EMA Crossover Signals')\n",
    "    plt.xlabel('Date')\n",
    "    plt.ylabel('Price (USDT)')\n",
    "    plt.legend()\n",
    "    plt.grid()\n",
    "    plt.tight_layout()\n",
    "    plt.show()\n",
    "    print(f\"Average return: {avg_return:.2f}%\")\n",
    "    print(f\"Individual return: {[round(r, 2) for r in returns]}\")\n",
    "else:\n",
    "    print(\"No complete buy/sell pairs were found to calculate returns.\")\n",
    "\n",
    "plt.figure(figsize=(14,6))\n",
    "plt.plot(df['open_time'], df['close'], label='BTC Price', color='blue')\n",
    "plt.scatter(df[df['signal'] == 1]['open_time'], df[df['signal'] == 1]['close'], label='Buy Signal', marker='^', color='green')\n",
    "plt.scatter(df[df['signal'] == -1]['open_time'], df[df['signal'] == -1]['close'], label='Sell Signal', marker='v', color='red')\n",
    "plt.title('BTC Price with Buy/Sell RSI Signals')\n",
    "plt.xlabel('Date')\n",
    "plt.ylabel('Price (USDT)')\n",
    "plt.legend()\n",
    "plt.grid()\n",
    "plt.tight_layout()\n",
    "plt.show()\n",
    "\n",
    "\n",
    "\n"
   ]
  },
  {
   "cell_type": "code",
   "execution_count": null,
   "id": "20aedfa8",
   "metadata": {},
   "outputs": [],
   "source": []
  }
 ],
 "metadata": {
  "kernelspec": {
   "display_name": "Python 3",
   "language": "python",
   "name": "python3"
  },
  "language_info": {
   "codemirror_mode": {
    "name": "ipython",
    "version": 3
   },
   "file_extension": ".py",
   "mimetype": "text/x-python",
   "name": "python",
   "nbconvert_exporter": "python",
   "pygments_lexer": "ipython3",
   "version": "3.12.0"
  }
 },
 "nbformat": 4,
 "nbformat_minor": 5
}
